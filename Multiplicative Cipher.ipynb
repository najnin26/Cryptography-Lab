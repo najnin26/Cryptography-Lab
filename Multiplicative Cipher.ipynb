{
 "cells": [
  {
   "cell_type": "code",
   "execution_count": 1,
   "id": "c6401c9a",
   "metadata": {},
   "outputs": [
    {
     "name": "stdout",
     "output_type": "stream",
     "text": [
      "Enter the plaintext: Najnin Sultana Shirin\n",
      "Enter the key: 5\n",
      "Encrypted text:  NATNON MWDRANA MJOHON\n"
     ]
    }
   ],
   "source": [
    "# Input\n",
    "plaintext = input(\"Enter the plaintext: \")\n",
    "key = int(input(\"Enter the key: \"))\n",
    "\n",
    "# Encryption Funtion\n",
    "plaintext = plaintext.upper()\n",
    "ciphertext = \"\"\n",
    "for i in range(len(plaintext)):\n",
    "    ch = plaintext[i]\n",
    "    if ch == \" \":\n",
    "        substituted_ch = ch\n",
    "    else:\n",
    "        substituted_ch = chr(((ord(ch) - 65) * key) % 26)\n",
    "        substituted_ch = chr(ord(substituted_ch) + 65)\n",
    "    ciphertext = ciphertext + substituted_ch\n",
    "print(\"Encrypted text: \", ciphertext)"
   ]
  },
  {
   "cell_type": "code",
   "execution_count": 2,
   "id": "f64ef4c9",
   "metadata": {},
   "outputs": [
    {
     "name": "stdout",
     "output_type": "stream",
     "text": [
      "Decrypted text:  najnin sultana shirin\n"
     ]
    }
   ],
   "source": [
    "# Finding the multiplicative inverse of key value\n",
    "# Using Extended Euclidean Algorithm\n",
    "r1 = 26\n",
    "r2 = key\n",
    "t1 = 0\n",
    "t2 = 1\n",
    "while r2 > 0:\n",
    "    q = r1 // r2\n",
    "    r = r1 - q * r2\n",
    "    r1 = r2\n",
    "    r2 = r\n",
    "    t = t1 - q * t2\n",
    "    t1 = t2\n",
    "    t2 = t\n",
    "\n",
    "if r1 == 1:\n",
    "    ciphertext = ciphertext.lower()\n",
    "    new_plaintext = \"\"\n",
    "    for i in range(len(ciphertext)):\n",
    "        ch = ciphertext[i]\n",
    "        if ch == \" \":\n",
    "            substituted_ch = ch\n",
    "        else:\n",
    "            substituted_ch = chr(((ord(ch) - 97) * t1) % 26)\n",
    "            substituted_ch = chr(ord(substituted_ch) + 97)\n",
    "        new_plaintext = new_plaintext + substituted_ch\n",
    "    print(\"Decrypted text: \", new_plaintext)\n",
    "\n",
    "else:\n",
    "    print(\"Multiplicative inverse of the key doesn't exist\")"
   ]
  },
  {
   "cell_type": "code",
   "execution_count": null,
   "id": "bdccef0f",
   "metadata": {},
   "outputs": [],
   "source": []
  }
 ],
 "metadata": {
  "kernelspec": {
   "display_name": "Python 3 (ipykernel)",
   "language": "python",
   "name": "python3"
  },
  "language_info": {
   "codemirror_mode": {
    "name": "ipython",
    "version": 3
   },
   "file_extension": ".py",
   "mimetype": "text/x-python",
   "name": "python",
   "nbconvert_exporter": "python",
   "pygments_lexer": "ipython3",
   "version": "3.11.5"
  }
 },
 "nbformat": 4,
 "nbformat_minor": 5
}
