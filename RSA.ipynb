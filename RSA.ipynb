{
 "cells": [
  {
   "cell_type": "code",
   "execution_count": 1,
   "id": "a9d2c619",
   "metadata": {},
   "outputs": [],
   "source": [
    "#A Python Code for Encryption Using RSA Algorithm\n",
    "from Crypto.PublicKey import RSA\n",
    "from Crypto.Cipher import PKCS1_OAEP"
   ]
  },
  {
   "cell_type": "code",
   "execution_count": 2,
   "id": "e552de28",
   "metadata": {},
   "outputs": [],
   "source": [
    "#Function for generating public and private key\n",
    "def generate_key_pair():\n",
    "    key = RSA.generate(2048)\n",
    "    public_key = key.publickey().export_key()\n",
    "    private_key = key.export_key()\n",
    "    return public_key, private_key"
   ]
  },
  {
   "cell_type": "code",
   "execution_count": 3,
   "id": "24f3706d",
   "metadata": {},
   "outputs": [],
   "source": [
    "#Encryption Function\n",
    "def encrypt(message, public_key):\n",
    "    cipher = PKCS1_OAEP.new(RSA.import_key(public_key))\n",
    "    encrypted_message = cipher.encrypt(message)\n",
    "    return encrypted_message"
   ]
  },
  {
   "cell_type": "code",
   "execution_count": 4,
   "id": "abe5cac1",
   "metadata": {},
   "outputs": [],
   "source": [
    "#Decryption Function\n",
    "def decrypt(encrypted_message, private_key):\n",
    "    cipher = PKCS1_OAEP.new(RSA.import_key(private_key))\n",
    "    decrypted_message = cipher.decrypt(encrypted_message)\n",
    "    return decrypted_message"
   ]
  },
  {
   "cell_type": "code",
   "execution_count": 6,
   "id": "199e5a2f",
   "metadata": {},
   "outputs": [
    {
     "name": "stdout",
     "output_type": "stream",
     "text": [
      "Enter the plain text: This is a secret message from TAJ\n",
      "Plaintext: This is a secret message from TAJ\n",
      "Plaintext bytes: b'This is a secret message from TAJ'\n",
      "----output----\n",
      "Encrypted message: 233963506c0d79cffee876c691dc7674470d13d9163060fc94cc399a6d66e0aa629261574240fd405544f5ff537ae970bf6a790c394a497d913ece25337ccb0529c03a103a9809e69a0785e19cb5d6c64911b2a604264dbb971e9614867af392ab44f775776833bac809ba0d58e5d0acfa23a230c461ecd3715f2a15c46e75fd4eb64d0cbec8368bb4ad003446142117660a8195b96620a93862fcc503c4162ed76bb2dfa01f71daf03542efcaa6bce44067df0cceceb3a234ce01e9ee1cbff9701b33c2ffabd53c12a1c2f34251861740485bd57a05c152900c5d1797feaaccf4faf7860dbdb34043779b7e3c9458cc1895aef2c45284714880aa987627501b\n",
      "Decrypted message: This is a secret message from TAJ\n"
     ]
    }
   ],
   "source": [
    "# Example usage\n",
    "plaintext = input(\"Enter the plain text: \").encode()  # Convert plain text to bytes\n",
    "\n",
    "print(\"Plaintext:\", plaintext.decode())\n",
    "print(\"Plaintext bytes:\", plaintext)\n",
    "print(\"----output----\")\n",
    "\n",
    "# Generate key pair\n",
    "public_key, private_key = generate_key_pair()\n",
    "\n",
    "# Encrypt the message\n",
    "encrypted_message = encrypt(plaintext, public_key)\n",
    "print(\"Encrypted message:\", encrypted_message.hex())\n",
    "\n",
    "# Decrypt the message\n",
    "decrypted_message = decrypt(encrypted_message, private_key)\n",
    "print(\"Decrypted message:\", decrypted_message.decode())\n"
   ]
  }
 ],
 "metadata": {
  "kernelspec": {
   "display_name": "Python 3 (ipykernel)",
   "language": "python",
   "name": "python3"
  },
  "language_info": {
   "codemirror_mode": {
    "name": "ipython",
    "version": 3
   },
   "file_extension": ".py",
   "mimetype": "text/x-python",
   "name": "python",
   "nbconvert_exporter": "python",
   "pygments_lexer": "ipython3",
   "version": "3.11.5"
  }
 },
 "nbformat": 4,
 "nbformat_minor": 5
}
