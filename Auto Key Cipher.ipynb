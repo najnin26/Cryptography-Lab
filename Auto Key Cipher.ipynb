{
 "cells": [
  {
   "cell_type": "code",
   "execution_count": 34,
   "id": "eb4307e3",
   "metadata": {},
   "outputs": [],
   "source": [
    "# Fuction for generating the keystream\n",
    "def generateKeyStream(plainText, key):\n",
    "    result = key\n",
    "    for i in range(len(plainText) - 1):\n",
    "        result = result + plainText[i]\n",
    "    return result"
   ]
  },
  {
   "cell_type": "code",
   "execution_count": 35,
   "id": "a82ac0b3",
   "metadata": {},
   "outputs": [],
   "source": [
    "# Encryption function\n",
    "def encrypt(message, key):\n",
    "    ciphertext = \"\"\n",
    "    for i in range(len(message)):\n",
    "        messageChar = message[i]\n",
    "        keyStreamChar = key[i]\n",
    "                # Main formula: cipherText = (plainText + keyStream) mod 26\n",
    "        if messageChar.isupper():\n",
    "            ciphertext = ciphertext + chr(\n",
    "                ((ord(messageChar) - 65) + (ord(keyStreamChar) - 65)) % 26 + 65\n",
    "            )\n",
    "        elif messageChar.islower():\n",
    "            ciphertext = ciphertext + chr(\n",
    "                ((ord(messageChar) - 97) + (ord(keyStreamChar) - 97)) % 26 + 97\n",
    "            )\n",
    "        else:  # If we have space as character, then just concatenate it\n",
    "            ciphertext = ciphertext + messageChar\n",
    "    return ciphertext"
   ]
  },
  {
   "cell_type": "code",
   "execution_count": 36,
   "id": "01786b83",
   "metadata": {},
   "outputs": [],
   "source": [
    "# Decryption function\n",
    "def decrypt(message, key):\n",
    "    plaintext = \"\"\n",
    "    for i in range(len(message)):\n",
    "        messageChar = message[i]\n",
    "        keyStreamChar = key[i]\n",
    "        # Main formula: plainText = (cipherText - keyStream) mod 26\n",
    "        if messageChar.isupper():\n",
    "            plaintext = plaintext + chr(\n",
    "                ((ord(messageChar) - 65) - (ord(keyStreamChar) - 65)) % 26 + 65\n",
    "            )\n",
    "        elif messageChar.islower():\n",
    "            plaintext = plaintext + chr(\n",
    "                ((ord(messageChar) - 97) - (ord(keyStreamChar) - 97)) % 26 + 97\n",
    "            )\n",
    "        else:  #If we have space as character, then just concatenate it\n",
    "            plaintext = plaintext + messageChar\n",
    "    return plaintext"
   ]
  },
  {
   "cell_type": "code",
   "execution_count": 38,
   "id": "e80a92cc",
   "metadata": {},
   "outputs": [
    {
     "name": "stdout",
     "output_type": "stream",
     "text": [
      "Enter the plainText: najnin sultana shirin \n",
      "Enter the autoKey: abc\n",
      "Key Stream : abcnajnin sultana shirin\n",
      "Encrypted ciphertext: nblaiw ahyluyt fhvjpv \n",
      "Decrypted PlainText: najnin sultana shirin \n"
     ]
    }
   ],
   "source": [
    "plainText = input(\"Enter the plainText: \")\n",
    "autoKey = input(\"Enter the autoKey: \")\n",
    "keyStream = generateKeyStream(plainText, autoKey)\n",
    "print(f\"Key Stream : {keyStream}\")\n",
    "ciphertext = encrypt(plainText, keyStream)\n",
    "print(f\"Encrypted ciphertext: {ciphertext}\")\n",
    "decryptedPlainText = decrypt(ciphertext, keyStream)\n",
    "print(f\"Decrypted PlainText: {decryptedPlainText}\")"
   ]
  },
  {
   "cell_type": "code",
   "execution_count": null,
   "id": "4167d1be",
   "metadata": {},
   "outputs": [],
   "source": []
  }
 ],
 "metadata": {
  "kernelspec": {
   "display_name": "Python 3 (ipykernel)",
   "language": "python",
   "name": "python3"
  },
  "language_info": {
   "codemirror_mode": {
    "name": "ipython",
    "version": 3
   },
   "file_extension": ".py",
   "mimetype": "text/x-python",
   "name": "python",
   "nbconvert_exporter": "python",
   "pygments_lexer": "ipython3",
   "version": "3.11.5"
  }
 },
 "nbformat": 4,
 "nbformat_minor": 5
}
