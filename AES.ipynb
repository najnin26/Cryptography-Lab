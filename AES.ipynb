{
 "cells": [
  {
   "cell_type": "code",
   "execution_count": 1,
   "id": "ed25b2d4",
   "metadata": {},
   "outputs": [
    {
     "name": "stdout",
     "output_type": "stream",
     "text": [
      "Ciphertext :  b'KJEACett4LrgGrCmFpFDCAOZzk2DoF4y'\n",
      "Tag :  b'\\x95\\xda\\x95\\xa5\\xf8\\xd0\\xbd&\\xa5g18\\xaeyA\\t'\n",
      "Decrypted text:  This is a secret message\n"
     ]
    }
   ],
   "source": [
    "import base64\n",
    "from Crypto.Cipher import AES \n",
    "from Crypto.Random import get_random_bytes\n",
    "\n",
    "plaintext = b'This is a secret message'\n",
    "key = get_random_bytes(16)\n",
    "\n",
    "cipher = AES.new(key, AES.MODE_EAX)\n",
    "ciphertext, tag = cipher.encrypt_and_digest(plaintext)\n",
    "print(\"Ciphertext : \", base64.b64encode(ciphertext))\n",
    "print(\"Tag : \", tag)\n",
    "\n",
    "decrypt_cipher = AES.new(key, AES.MODE_EAX, nonce=cipher.nonce)\n",
    "decrypted_text =decrypt_cipher.decrypt_and_verify(ciphertext, tag)\n",
    "print(\"Decrypted text: \", decrypted_text.decode())\n",
    "Ciphertext :  b'28J/2i8J42YGe9Fw5QSpINbMAxYo7Gb1'"
   ]
  },
  {
   "cell_type": "code",
   "execution_count": 2,
   "id": "6aafb88a",
   "metadata": {},
   "outputs": [
    {
     "name": "stdout",
     "output_type": "stream",
     "text": [
      "Ciphertext: b'\\x04}\\xf4\\xe6L\\xce\\xffl\\tV\\x9b)0\\xb6u\\x15QM\\xc7\\xbf\\xc6=\\x89\\xf3'\n",
      "Ciphertext : b'BH305kzO/2wJVpspMLZ1FVFNx7/GPYnz'\n",
      "Tag: b'\\xf5BGo\"qG\\xd6\\x90m\\xc1\\x07\\x03m\\xd1\\xbc'\n"
     ]
    }
   ],
   "source": [
    "# A python code for encryption by using AES.\n",
    "import base64\n",
    "from Crypto.Cipher import AES\n",
    "from Crypto.Random import get_random_bytes\n",
    "\n",
    "# Define the plaintext and key\n",
    "# A byte string, also known as a bytes literal, is a sequence of bytes.\n",
    "plaintext = b'This is a secret message'\n",
    "# The get_random_bytes() function takes a parameter that specifies the desired length of the random byte string to generate.\n",
    "#In this case, the parameter is 16, which corresponds to 16 bytes or 128 bits.\n",
    "key = get_random_bytes(16)\n",
    "\n",
    "# Create an AES cipher object with a 128-bit key\n",
    "cipher = AES.new(key, AES.MODE_EAX)\n",
    "# Encrypt the plaintext\n",
    "# The authentication tag provides a unique identifier for the encrypted data, ensuring that it has not been tampered with or modified.\n",
    "ciphertext, tag = cipher.encrypt_and_digest(plaintext)\n",
    "\n",
    "# Print the encrypted ciphertext and tag\n",
    "print(\"Ciphertext:\", ciphertext)\n",
    "print(\"Ciphertext :\",base64.b64encode(ciphertext))\n",
    "print(\"Tag:\", tag)"
   ]
  },
  {
   "cell_type": "code",
   "execution_count": null,
   "id": "5f5cecc5",
   "metadata": {},
   "outputs": [],
   "source": []
  }
 ],
 "metadata": {
  "kernelspec": {
   "display_name": "Python 3 (ipykernel)",
   "language": "python",
   "name": "python3"
  },
  "language_info": {
   "codemirror_mode": {
    "name": "ipython",
    "version": 3
   },
   "file_extension": ".py",
   "mimetype": "text/x-python",
   "name": "python",
   "nbconvert_exporter": "python",
   "pygments_lexer": "ipython3",
   "version": "3.11.5"
  }
 },
 "nbformat": 4,
 "nbformat_minor": 5
}
