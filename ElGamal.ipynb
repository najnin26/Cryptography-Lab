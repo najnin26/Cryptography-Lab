{
 "cells": [
  {
   "cell_type": "code",
   "execution_count": 1,
   "id": "fca0b72d",
   "metadata": {},
   "outputs": [],
   "source": [
    "# Sympy is a Python library for symbolic mathematics.\n",
    "from sympy import primitive_root,randprime\n",
    "import random"
   ]
  },
  {
   "cell_type": "code",
   "execution_count": 2,
   "id": "de6c11d9",
   "metadata": {},
   "outputs": [],
   "source": [
    "# The number for which you want to find the primitive root\n",
    "prime = randprime(124,10**3)\n",
    "root = primitive_root(prime)"
   ]
  },
  {
   "cell_type": "code",
   "execution_count": 3,
   "id": "44c31b81",
   "metadata": {},
   "outputs": [],
   "source": [
    "d=random.randint(1,(prime-2)) # It is private key."
   ]
  },
  {
   "cell_type": "code",
   "execution_count": 4,
   "id": "e8b3f854",
   "metadata": {},
   "outputs": [],
   "source": [
    "e=(pow(root,d)%prime)  # It is public key.\n",
    "r=random.randint(1,10)  # Select a random integer."
   ]
  },
  {
   "cell_type": "code",
   "execution_count": 8,
   "id": "003c6dcc",
   "metadata": {},
   "outputs": [
    {
     "name": "stdout",
     "output_type": "stream",
     "text": [
      "This is a secret message\n"
     ]
    }
   ],
   "source": [
    "#Define the plaintext.\n",
    "plaintext = input()"
   ]
  },
  {
   "cell_type": "code",
   "execution_count": 9,
   "id": "2414cf71",
   "metadata": {},
   "outputs": [
    {
     "name": "stdout",
     "output_type": "stream",
     "text": [
      "[(535, 163), (535, 373), (535, 24), (535, 129), (535, 336), (535, 24), (535, 129), (535, 336), (535, 659), (535, 336), (535, 129), (535, 701), (535, 680), (535, 478), (535, 701), (535, 499), (535, 336), (535, 66), (535, 701), (535, 129), (535, 129), (535, 659), (535, 3), (535, 701)]\n"
     ]
    }
   ],
   "source": [
    "# Encryption Algorithm.\n",
    "ciphertext=[]\n",
    "for char in plaintext:\n",
    "  ciphertext1=(pow(root,r)%prime)\n",
    "  ciphertext2=((ord(char)*pow(e,r))%prime)\n",
    "  ciphertext.append((ciphertext1,ciphertext2))\n",
    "print(ciphertext)"
   ]
  },
  {
   "cell_type": "code",
   "execution_count": 10,
   "id": "07b53a22",
   "metadata": {},
   "outputs": [
    {
     "name": "stdout",
     "output_type": "stream",
     "text": [
      "This is a secret message\n"
     ]
    }
   ],
   "source": [
    "#Decryption Algorithm\n",
    "plaintext=\"\"\n",
    "for pair in ciphertext:\n",
    "  ciphertext1,ciphertext2=pair\n",
    "  value=pow(ciphertext1,d)\n",
    "  multinv = pow(value,-1,prime)\n",
    "  decrypt_char = (ciphertext2*multinv) % prime\n",
    "  plaintext += chr(decrypt_char)\n",
    "print(plaintext)"
   ]
  },
  {
   "cell_type": "code",
   "execution_count": null,
   "id": "1e2d969a",
   "metadata": {},
   "outputs": [],
   "source": []
  }
 ],
 "metadata": {
  "kernelspec": {
   "display_name": "Python 3 (ipykernel)",
   "language": "python",
   "name": "python3"
  },
  "language_info": {
   "codemirror_mode": {
    "name": "ipython",
    "version": 3
   },
   "file_extension": ".py",
   "mimetype": "text/x-python",
   "name": "python",
   "nbconvert_exporter": "python",
   "pygments_lexer": "ipython3",
   "version": "3.11.5"
  }
 },
 "nbformat": 4,
 "nbformat_minor": 5
}
