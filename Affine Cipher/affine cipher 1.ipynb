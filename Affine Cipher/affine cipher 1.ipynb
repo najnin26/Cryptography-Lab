{
 "cells": [
  {
   "cell_type": "code",
   "execution_count": 1,
   "id": "417407c6",
   "metadata": {},
   "outputs": [],
   "source": [
    "#Encryption Function\n",
    "def encryption(plaintext, key1, key2):\n",
    "    ciphertext = \"\"\n",
    "    # This for loop is for the traversing the text.\n",
    "    for i in range(len(plaintext)):\n",
    "        char = plaintext[i]\n",
    "        # This condition is for keeping the \"space\" same on the cipher text.\n",
    "        if char == \" \":\n",
    "            ciphertext = ciphertext + char\n",
    "        # Ascii value of upper case letters start from 65.\n",
    "        elif char.isupper():\n",
    "            ciphertext = ciphertext + chr(\n",
    "                ((((ord(char) - 65) * key1) + key2) % 26) + 65\n",
    "            )\n",
    "        # Ascii value of lower case letters start from 97.\n",
    "        else:\n",
    "            ciphertext = ciphertext + chr(\n",
    "                ((((ord(char) - 97) * key1) + key2) % 26) + 97\n",
    "            )\n",
    "    return ciphertext"
   ]
  },
  {
   "cell_type": "code",
   "execution_count": 2,
   "id": "158f1703",
   "metadata": {},
   "outputs": [],
   "source": [
    "#Decrption Function\n",
    "def decryption(ciphertext, key1, key2):\n",
    "    text = ciphertext.upper()\n",
    "    #finding the inverse of key1 mod 26\n",
    "    key1_inv = pow(key1, -1, 26)\n",
    "    plaintext = \"\"\n",
    "    for char in text:\n",
    "        order = ord(char)\n",
    "        #Range for uppercase letter is 65 to 90\n",
    "        if order>=65 and order<=90:\n",
    "            order = order - 65\n",
    "            order = ((order - key2) * key1_inv) % 26\n",
    "            order = order + 65\n",
    "            new_char = chr(order)\n",
    "            plaintext = plaintext + new_char\n",
    "        else:\n",
    "            plaintext = plaintext + char\n",
    "    return plaintext\n"
   ]
  },
  {
   "cell_type": "code",
   "execution_count": 3,
   "id": "d521cc7e",
   "metadata": {},
   "outputs": [
    {
     "name": "stdout",
     "output_type": "stream",
     "text": [
      "Enter the plaintext: najnin sultana shirin\n",
      "Enter the first key: 5\n",
      "Enter the second key : 7\n",
      "Entered plaintext:  najnin sultana shirin\n",
      "Entered keys are: \n",
      "key1 =  5 \n",
      "key2 =  7\n",
      "Ciphertext :  uhauvu tdkyhuh tqvovu\n",
      "Decrypted text :  NAJNIN SULTANA SHIRIN\n"
     ]
    }
   ],
   "source": [
    "#Input section\n",
    "plaintext = input(\"Enter the plaintext: \")\n",
    "key1 = int(input(\"Enter the first key: \"))\n",
    "key2 = int(input(\"Enter the second key : \"))\n",
    "\n",
    "#Function calling\n",
    "ciphertext = encryption(plaintext, key1, key2)\n",
    "decrypted_text = decryption(ciphertext, key1, key2)\n",
    "\n",
    "#Output Section\n",
    "print(\"Entered plaintext: \", plaintext)\n",
    "print(\"Entered keys are: \\nkey1 = \", key1, \"\\nkey2 = \", key2)\n",
    "print(\"Ciphertext : \", ciphertext)\n",
    "print(\"Decrypted text : \", decrypted_text)"
   ]
  },
  {
   "cell_type": "code",
   "execution_count": null,
   "id": "0ad7d5fb",
   "metadata": {},
   "outputs": [],
   "source": []
  }
 ],
 "metadata": {
  "kernelspec": {
   "display_name": "Python 3 (ipykernel)",
   "language": "python",
   "name": "python3"
  },
  "language_info": {
   "codemirror_mode": {
    "name": "ipython",
    "version": 3
   },
   "file_extension": ".py",
   "mimetype": "text/x-python",
   "name": "python",
   "nbconvert_exporter": "python",
   "pygments_lexer": "ipython3",
   "version": "3.11.5"
  }
 },
 "nbformat": 4,
 "nbformat_minor": 5
}
