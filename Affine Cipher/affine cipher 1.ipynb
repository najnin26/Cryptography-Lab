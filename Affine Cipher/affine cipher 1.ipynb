{
 "cells": [
  {
   "cell_type": "code",
   "execution_count": 7,
   "id": "057ac772",
   "metadata": {},
   "outputs": [],
   "source": [
    "#Encryption Function\n",
    "def encryption(plaintext, key1, key2):\n",
    "    ciphertext = \"\"\n",
    "    # This for loop is for the traversing the text.\n",
    "    for i in range(len(plaintext)):\n",
    "        char = plaintext[i]\n",
    "        # This condition is for keeping the \"space\" same on the cipher text.\n",
    "        if char == \" \":\n",
    "            ciphertext = ciphertext + char\n",
    "        # Ascii value of upper case letters start from 65.\n",
    "        elif char.isupper():\n",
    "            ciphertext = ciphertext + chr(((((ord(char) - 65) * key1) + key2) % 26) + 65)\n",
    "        # Ascii value of lower case letters start from 97.\n",
    "        else:\n",
    "            ciphertext = ciphertext + chr(\n",
    "                ((((ord(char) - 97) * key1) + key2) % 26) + 97\n",
    "            )\n",
    "    return ciphertext"
   ]
  },
  {
   "cell_type": "code",
   "execution_count": 8,
   "id": "ab7943aa",
   "metadata": {},
   "outputs": [],
   "source": [
    "#Decrption Function\n",
    "def decryption(ciphertext, key1, key2):\n",
    "    plaintext = \"\"\n",
    "    # Finding the multiplicative inverse of key1\n",
    "    mi = pow(key1, -1, 26)\n",
    "    # This for loop is for traversing the text.\n",
    "    for i in range(len(ciphertext)):\n",
    "        char = ciphertext[i]\n",
    "        # This condition is for keeping the \"space\" same on the plaintext.\n",
    "        if char == \" \":\n",
    "            plaintext = plaintext + char\n",
    "        # Ascii value of upper case letters start from 65.\n",
    "        elif char.isupper():\n",
    "            plaintext = plaintext + chr(((((ord(char) - 65) - key2) * mi) % 26) + 65)\n",
    "        # Ascii value of lower case letters start from 97.\n",
    "        else:\n",
    "            plaintext = plaintext + chr(((((ord(char) - 97) - key2) * mi) % 26) + 97)\n",
    "    return plaintext\n"
   ]
  },
  {
   "cell_type": "code",
   "execution_count": 9,
   "id": "a341d93b",
   "metadata": {},
   "outputs": [
    {
     "name": "stdout",
     "output_type": "stream",
     "text": [
      "Enter the plaintext: najnin sultana shirin\n",
      "Enter the first key: 5\n",
      "Enter the second key : 7\n",
      "Entered plaintext:  najnin sultana shirin\n",
      "Entered keys are: \n",
      "key1 =  5 \n",
      "key2 =  7\n",
      "Ciphertext :  uhauvu tdkyhuh tqvovu\n",
      "Decrypted text :  najnin sultana shirin\n"
     ]
    }
   ],
   "source": [
    "#Input section\n",
    "plaintext = input(\"Enter the plaintext: \")\n",
    "key1 = int(input(\"Enter the first key: \"))\n",
    "key2 = int(input(\"Enter the second key : \"))\n",
    "\n",
    "#Function calling\n",
    "ciphertext = encryption(plaintext, key1, key2)\n",
    "decrypted_text = decryption(ciphertext, key1, key2)\n",
    "\n",
    "#Output Section\n",
    "print(\"Entered plaintext: \", plaintext)\n",
    "print(\"Entered keys are: \\nkey1 = \", key1, \"\\nkey2 = \", key2)\n",
    "print(\"Ciphertext : \", ciphertext)\n",
    "print(\"Decrypted text : \", decrypted_text)"
   ]
  },
  {
   "cell_type": "code",
   "execution_count": null,
   "id": "285391b3",
   "metadata": {},
   "outputs": [],
   "source": []
  }
 ],
 "metadata": {
  "kernelspec": {
   "display_name": "Python 3 (ipykernel)",
   "language": "python",
   "name": "python3"
  },
  "language_info": {
   "codemirror_mode": {
    "name": "ipython",
    "version": 3
   },
   "file_extension": ".py",
   "mimetype": "text/x-python",
   "name": "python",
   "nbconvert_exporter": "python",
   "pygments_lexer": "ipython3",
   "version": "3.11.5"
  }
 },
 "nbformat": 4,
 "nbformat_minor": 5
}
