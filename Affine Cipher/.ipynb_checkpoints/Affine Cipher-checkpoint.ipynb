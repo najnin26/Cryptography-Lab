{
 "cells": [
  {
   "cell_type": "code",
   "execution_count": 1,
   "id": "ad26f488",
   "metadata": {},
   "outputs": [],
   "source": [
    "# Encryption Function\n",
    "def encryption(plaintext, key1, key2):\n",
    "    ciphertext = \"\"\n",
    "    # This for loop is for the traversing the text.\n",
    "    for i in range(len(plaintext)):\n",
    "        char = plaintext[i]\n",
    "        # This condition is for keeping the \"space\" same on the cipher text.\n",
    "        if char == \" \":\n",
    "            ciphertext = ciphertext + char\n",
    "        # Ascii value of upper case letters start from 65.\n",
    "        elif char.isupper():\n",
    "            ciphertext = ciphertext + chr(\n",
    "                ((((ord(char) - 65) * key1) + key2) % 26) + 65\n",
    "            )\n",
    "        # Ascii value of lower case letters start from 97.\n",
    "        else:\n",
    "            ciphertext = ciphertext + chr(\n",
    "                ((((ord(char) - 97) * key1) + key2) % 26) + 97\n",
    "            )\n",
    "    return ciphertext"
   ]
  },
  {
   "cell_type": "code",
   "execution_count": 3,
   "id": "b2d8ccce",
   "metadata": {},
   "outputs": [
    {
     "ename": "SyntaxError",
     "evalue": "(unicode error) 'unicodeescape' codec can't decode bytes in position 2-3: truncated \\UXXXXXXXX escape (1227971908.py, line 20)",
     "output_type": "error",
     "traceback": [
      "\u001b[1;36m  Cell \u001b[1;32mIn[3], line 20\u001b[1;36m\u001b[0m\n\u001b[1;33m    input = open(\"C:\\Users\\ASUS\\Cryptography\\Affine Cipher\\input.txt\", \"r+\")\u001b[0m\n\u001b[1;37m                                                                     ^\u001b[0m\n\u001b[1;31mSyntaxError\u001b[0m\u001b[1;31m:\u001b[0m (unicode error) 'unicodeescape' codec can't decode bytes in position 2-3: truncated \\UXXXXXXXX escape\n"
     ]
    }
   ],
   "source": [
    "# Decryption Function\n",
    "def decryption(ciphertext, key1, key2):\n",
    "    plaintext = \"\"\n",
    "    # Finding the multiplicative inverse of key1\n",
    "    mi = pow(key1, -1, 26)\n",
    "    # This for loop is for traversing the text.\n",
    "    for i in range(len(ciphertext)):\n",
    "        char = ciphertext[i]\n",
    "        # This condition is for keeping the \"space\" same on the plaintext.\n",
    "        if char == \" \":\n",
    "            plaintext = plaintext + char\n",
    "        # Ascii value of upper case letters start from 65.\n",
    "        elif char.isupper():\n",
    "            plaintext = plaintext + chr(((((ord(char) - 65) - key2) * mi) % 26) + 65)\n",
    "        # Ascii value of lower case letters start from 97.\n",
    "        else:\n",
    "            plaintext = plaintext + chr(((((ord(char) - 97) - key2) * mi) % 26) + 97)\n",
    "    return plaintext\n",
    "\n",
    "input = open(\"Affine Cipher\\input.txt\", \"r+\")\n",
    "output = open(\"CAffine Cipher\\output.txt\", \"w\")\n",
    "\n",
    "plaintext = input.read()\n",
    "key1 = 7\n",
    "key2 = 2\n",
    "\n",
    "ciphertext = encryption(plaintext, key1, key2)\n",
    "decodedtext = decryption(ciphertext, key1, key2)\n",
    "output.write(\"Given plaintext is: \" + plaintext + \"\\n\")\n",
    "output.write(\"Encrypted text is: \" + ciphertext.upper() + \"\\n\")\n",
    "output.write(\"Decrypted text is: \" + decodedtext.lower() + \"\\n\")\n",
    "\n",
    "\n",
    "# This line is for the closing the files.\n",
    "input.close()\n",
    "output.close()"
   ]
  },
  {
   "cell_type": "code",
   "execution_count": null,
   "id": "36a06145",
   "metadata": {},
   "outputs": [],
   "source": []
  }
 ],
 "metadata": {
  "kernelspec": {
   "display_name": "Python 3 (ipykernel)",
   "language": "python",
   "name": "python3"
  },
  "language_info": {
   "codemirror_mode": {
    "name": "ipython",
    "version": 3
   },
   "file_extension": ".py",
   "mimetype": "text/x-python",
   "name": "python",
   "nbconvert_exporter": "python",
   "pygments_lexer": "ipython3",
   "version": "3.11.5"
  }
 },
 "nbformat": 4,
 "nbformat_minor": 5
}
