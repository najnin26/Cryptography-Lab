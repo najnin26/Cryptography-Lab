{
 "cells": [
  {
   "cell_type": "code",
   "execution_count": 13,
   "id": "3792ed51",
   "metadata": {},
   "outputs": [],
   "source": [
    "import random\n",
    "def key_generation(p, q):\n",
    "    n = p * q  \n",
    "    return (p, q), n \n",
    "\n",
    "def encryption(n, M):\n",
    "    C = pow(M, 2, n)\n",
    "    return C\n",
    "\n",
    "def extended_gcd(a, b):\n",
    "    if b == 0:\n",
    "        return a, 1, 0\n",
    "    gcd, x1, y1 = extended_gcd(b, a % b)\n",
    "    x = y1\n",
    "    y = x1 - (a // b) * y1\n",
    "    return gcd, x, y\n",
    "def decryption(p, q, C):\n",
    "   \n",
    "    a1 = pow(C, (p + 1) // 4, p) \n",
    "    b1 = pow(C, (q + 1) // 4, q) \n",
    "\n",
    "    gcd, M1, M2 = extended_gcd(p, q)\n",
    "\n",
    "    r1 = (M1 * p * b1 + M2 * q * a1) % (p * q)\n",
    "    r2 = (M1 * p * b1 - M2 * q * a1) % (p * q)\n",
    "    r3 = (-r1) % (p * q)\n",
    "    r4 = (-r2) % (p * q)\n",
    "\n",
    "    return r1, r2, r3, r4"
   ]
  },
  {
   "cell_type": "code",
   "execution_count": 20,
   "id": "0ac82ca2",
   "metadata": {},
   "outputs": [
    {
     "name": "stdout",
     "output_type": "stream",
     "text": [
      "Enter the value of p : 7\n",
      "Enter the value of q : 11\n",
      "Public key (n): 77, Private key (p, q): (7, 11)\n",
      "Enter the plaintext (as an integer): 5\n",
      "Ciphertext: 25\n",
      "Possible plaintexts: 16, 5, 61, 72\n"
     ]
    }
   ],
   "source": [
    "p = int(input(\"Enter the value of p : \")) \n",
    "q = int(input(\"Enter the value of q : \"))  \n",
    "\n",
    "privateKey, publicKey = key_generation(p, q)\n",
    "print(f\"Public key (n): {publicKey}, Private key (p, q): {privateKey}\")\n",
    "\n",
    "M = int(input(\"Enter the plaintext (as an integer): \"))\n",
    "C = encryption(publicKey, M)\n",
    "print(\"Ciphertext: \"+str(C))\n",
    "\n",
    "r1, r2, r3, r4 = decryption(privateKey[0], privateKey[1], C)\n",
    "print(f\"Possible plaintexts: {r1}, {r2}, {r3}, {r4}\")"
   ]
  },
  {
   "cell_type": "code",
   "execution_count": 21,
   "id": "14615d3e",
   "metadata": {},
   "outputs": [
    {
     "name": "stdout",
     "output_type": "stream",
     "text": [
      "Public key (n): 77, Private keys (p, q): (7, 11)\n",
      "Original message: 5\n",
      "Encrypted message (ciphertext): 25\n",
      "Decrypted possible messages: (16, 61, 72, 5)\n"
     ]
    }
   ],
   "source": [
    "# Helper function: Extended Euclidean Algorithm to find the modular inverse\n",
    "def extended_gcd(a, b):\n",
    "    if b == 0:\n",
    "        return a, 1, 0\n",
    "    gcd, x1, y1 = extended_gcd(b, a % b)\n",
    "    x = y1\n",
    "    y = x1 - (a // b) * y1\n",
    "    return gcd, x, y\n",
    "\n",
    "def mod_inverse(a, m):\n",
    "    gcd, x, _ = extended_gcd(a, m)\n",
    "    if gcd != 1:\n",
    "        raise ValueError(\"Modular inverse does not exist\")\n",
    "    else:\n",
    "        return x % m\n",
    "\n",
    "# Helper function: Modular Exponentiation\n",
    "def mod_exp(base, exp, mod):\n",
    "    result = 1\n",
    "    base = base % mod\n",
    "    while exp > 0:\n",
    "        if (exp % 2) == 1:  # If exp is odd, multiply base with result\n",
    "            result = (result * base) % mod\n",
    "        exp = exp >> 1  # Divide the exponent by 2\n",
    "        base = (base * base) % mod  # Square the base\n",
    "    return result\n",
    "\n",
    "# Step 1: Key Generation\n",
    "def generate_keys():\n",
    "    # Prime numbers p and q (small values for simplicity, use larger primes in real-world use)\n",
    "    p = 7\n",
    "    q = 11\n",
    "    n = p * q\n",
    "    return p, q, n\n",
    "\n",
    "# Step 2: Encryption (Public key is n, plaintext is m)\n",
    "def encrypt(m, n):\n",
    "    return mod_exp(m, 2, n)\n",
    "\n",
    "# Step 3: Decryption (Private keys are p, q)\n",
    "def decrypt(c, p, q, n):\n",
    "    # Compute square roots modulo p and q\n",
    "    mp = mod_exp(c, (p + 1) // 4, p)\n",
    "    mq = mod_exp(c, (q + 1) // 4, q)\n",
    "    \n",
    "    # Use Chinese Remainder Theorem to get four possible plaintexts\n",
    "    inv_q = mod_inverse(q, p)\n",
    "    inv_p = mod_inverse(p, q)\n",
    "    \n",
    "    x1 = (mp * q * inv_q + mq * p * inv_p) % n\n",
    "    x2 = (mp * q * inv_q - mq * p * inv_p) % n\n",
    "    \n",
    "    # Return the four possible solutions\n",
    "    return x1, n - x1, x2, n - x2\n",
    "\n",
    "# Example Usage\n",
    "if __name__ == \"__main__\":\n",
    "    # Generate keys\n",
    "    p, q, n = generate_keys()\n",
    "    print(f\"Public key (n): {n}, Private keys (p, q): ({p}, {q})\")\n",
    "    \n",
    "    # Sample message (must be smaller than n)\n",
    "    m = 5\n",
    "    print(f\"Original message: {m}\")\n",
    "    \n",
    "    # Encrypt the message\n",
    "    c = encrypt(m, n)\n",
    "    print(f\"Encrypted message (ciphertext): {c}\")\n",
    "    \n",
    "    # Decrypt the ciphertext\n",
    "    possible_messages = decrypt(c, p, q, n)\n",
    "    print(f\"Decrypted possible messages: {possible_messages}\")"
   ]
  },
  {
   "cell_type": "code",
   "execution_count": null,
   "id": "54796df8",
   "metadata": {},
   "outputs": [],
   "source": []
  }
 ],
 "metadata": {
  "kernelspec": {
   "display_name": "Python 3 (ipykernel)",
   "language": "python",
   "name": "python3"
  },
  "language_info": {
   "codemirror_mode": {
    "name": "ipython",
    "version": 3
   },
   "file_extension": ".py",
   "mimetype": "text/x-python",
   "name": "python",
   "nbconvert_exporter": "python",
   "pygments_lexer": "ipython3",
   "version": "3.11.5"
  }
 },
 "nbformat": 4,
 "nbformat_minor": 5
}
