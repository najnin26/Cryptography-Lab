{
 "cells": [
  {
   "cell_type": "code",
   "execution_count": 8,
   "id": "c68274ca",
   "metadata": {},
   "outputs": [
    {
     "name": "stdout",
     "output_type": "stream",
     "text": [
      "Enter the plaintext: This is secret message\n",
      "Ciphertext:  b'ZA1czls/k2/4vQF8/7/alGBinI6NrgRu'\n",
      "Decrypted text :  This is secret message  \n"
     ]
    }
   ],
   "source": [
    "import base64\n",
    "from Crypto.Cipher import DES\n",
    "from Crypto.Random import get_random_bytes\n",
    "\n",
    "#Input plaintext\n",
    "plaintext = input(\"Enter the plaintext: \");\n",
    "#Padding the plaintext\n",
    "while len(plaintext) % 8 != 0:\n",
    "    plaintext = plaintext + \" \"\n",
    "#Create a random key\n",
    "key = get_random_bytes(8)\n",
    "\n",
    "#Create model of the cipher\n",
    "des = DES.new(key, DES.MODE_ECB)\n",
    "\n",
    "#Encryption Part\n",
    "ciphertext = des.encrypt(plaintext.encode('utf-8'))\n",
    "print(\"Ciphertext: \", base64.b64encode(ciphertext))\n",
    "#Decryptiom Part\n",
    "decryptedtext = des.decrypt(ciphertext)\n",
    "print(\"Decrypted text : \", decryptedtext.decode())"
   ]
  },
  {
   "cell_type": "code",
   "execution_count": 10,
   "id": "1647bdc3",
   "metadata": {},
   "outputs": [
    {
     "name": "stdout",
     "output_type": "stream",
     "text": [
      "The Encrypted text is : b'\\xcf/\\xd8B\\xb9\\xbc\\xb7\\x9f\\xf2\\xc1/\\xb5\\xfb\\xa3\\x19\\x1d\\xf2k{\\xde\\xa3-u\\x11'\n",
      "The encrypted text in character format : b'zy/YQrm8t5/ywS+1+6MZHfJre96jLXUR'\n"
     ]
    }
   ],
   "source": [
    "#A python code for encryption by using the data encryption standard\n",
    "#Import the DES function from Crypto module\n",
    "\n",
    "import base64\n",
    "from Crypto.Cipher import DES\n",
    "\n",
    "#This is the key for encryption\n",
    "key = 'hello123'\n",
    "\n",
    "# This function is for adding extra text to the plaintext if it does not fill the block\n",
    "# The block size is 64bit\n",
    "def pad(text):\n",
    "    # DES Algorithm works with 8 byte that’s why we divide it by 8.\n",
    "    # If the length of given text is multiple of 8 then exit from the while loop.\n",
    "    while len(text) % 8 != 0:\n",
    "        text = text + ' '\n",
    "    return text\n",
    "\n",
    "# Create the object of the DES and pass the appropriate parameter.\n",
    "# Second parameter is the encryption mode. Several encryption modes are available.\n",
    "# 'utf-8' encode the string to bytes. DES require the byte as parameter.\n",
    "des = DES.new(key.encode('utf-8'),DES.MODE_ECB)\n",
    "text = 'This is secret message'\n",
    "padded_text = pad(text)\n",
    "# This encryption function is used to encrypt the message.\n",
    "encrypted_text = des.encrypt(padded_text.encode('utf-8'))\n",
    "print(\"The Encrypted text is :\",encrypted_text)\n",
    "print(\"The encrypted text in character format :\",base64.b64encode(encrypted_text))"
   ]
  },
  {
   "cell_type": "code",
   "execution_count": null,
   "id": "26238a75",
   "metadata": {},
   "outputs": [],
   "source": []
  }
 ],
 "metadata": {
  "kernelspec": {
   "display_name": "Python 3 (ipykernel)",
   "language": "python",
   "name": "python3"
  },
  "language_info": {
   "codemirror_mode": {
    "name": "ipython",
    "version": 3
   },
   "file_extension": ".py",
   "mimetype": "text/x-python",
   "name": "python",
   "nbconvert_exporter": "python",
   "pygments_lexer": "ipython3",
   "version": "3.11.5"
  }
 },
 "nbformat": 4,
 "nbformat_minor": 5
}
