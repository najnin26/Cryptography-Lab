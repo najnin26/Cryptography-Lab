{
 "cells": [
  {
   "cell_type": "code",
   "execution_count": 1,
   "id": "3eaddc80",
   "metadata": {},
   "outputs": [
    {
     "name": "stdout",
     "output_type": "stream",
     "text": [
      "The value of P: 23\n",
      "The value of G: 9\n",
      "The private key a for Alice: 4\n",
      "The private key b for Bob: 3\n",
      "Secret key for Alice is: 9\n",
      "Secret key for Bob is: 9\n"
     ]
    }
   ],
   "source": [
    "# Diffie-Hellman Code\n",
    "\n",
    "# Power function to return value of a^b mod P\n",
    "def power(a, b, p):\n",
    "    if b == 1:\n",
    "        return a\n",
    "    else:\n",
    "        return pow(a, b) % p\n",
    "\n",
    "# Main function\n",
    "def main():\n",
    "    # Both persons agree upon the public keys G and P\n",
    "    # A prime number P is taken\n",
    "    P = 23\n",
    "    print(\"The value of P:\", P)\n",
    "\n",
    "    # A primitive root for P, G is taken\n",
    "    G = 9\n",
    "    print(\"The value of G:\", G)\n",
    "\n",
    "    # Alice chooses the private key a\n",
    "    # a is the chosen private key\n",
    "    a = 4\n",
    "    print(\"The private key a for Alice:\", a)\n",
    "\n",
    "    # Gets the generated key\n",
    "    x = power(G, a, P)\n",
    "\n",
    "    # Bob chooses the private key b\n",
    "    # b is the chosen private key\n",
    "    b = 3\n",
    "    print(\"The private key b for Bob:\", b)\n",
    "\n",
    "    # Gets the generated key\n",
    "    y = power(G, b, P)\n",
    "\n",
    "    # Generating the secret key after the exchange of keys\n",
    "    ka = power(y, a, P)  # Secret key for Alice\n",
    "    kb = power(x, b, P)  # Secret key for Bob\n",
    "\n",
    "    print(\"Secret key for Alice is:\", ka)\n",
    "    print(\"Secret key for Bob is:\", kb)\n",
    "\n",
    "if __name__ == \"__main__\":\n",
    "    main()\n"
   ]
  },
  {
   "cell_type": "code",
   "execution_count": 3,
   "id": "27645160",
   "metadata": {},
   "outputs": [
    {
     "name": "stdout",
     "output_type": "stream",
     "text": [
      "Prime number (P): 23\n",
      "Generator value (G): 9\n",
      "Alice's private key (a): 4\n",
      "Bob's private key (b): 3\n",
      "Secret key for Alice: 9\n",
      "Secret key for Bob: 9\n"
     ]
    }
   ],
   "source": [
    "def calculate_power(base, exponent, modulus):\n",
    "   \"\"\"Power function to return value of (base ^ exponent) mod modulus.\"\"\"\n",
    "   if exponent == 1:\n",
    "      return base\n",
    "   else:\n",
    "      return pow(base, exponent) % modulus\n",
    "\n",
    "# Driver code\n",
    "if __name__ == \"__main__\":\n",
    "   prime = 23\n",
    "   generator = 9\n",
    "   private_key_alice = 4\n",
    "   private_key_bob = 3\n",
    "\n",
    "   # Generating public keys\n",
    "   x = calculate_power(generator, private_key_alice, prime)\n",
    "   y = calculate_power(generator, private_key_bob, prime)\n",
    "\n",
    "   # Generating secret keys after the exchange of keys\n",
    "   secret_key_alice = calculate_power(y, private_key_alice, prime)\n",
    "   secret_key_bob = calculate_power(x, private_key_bob, prime)\n",
    "\n",
    "   # Output\n",
    "   print(\"Prime number (P):\", prime)\n",
    "   print(\"Generator value (G):\", generator)\n",
    "   print(\"Alice's private key (a):\", private_key_alice)\n",
    "   print(\"Bob's private key (b):\", private_key_bob)\n",
    "   print(\"Secret key for Alice:\", secret_key_alice)\n",
    "   print(\"Secret key for Bob:\", secret_key_bob)"
   ]
  },
  {
   "cell_type": "code",
   "execution_count": null,
   "id": "414a2af9",
   "metadata": {},
   "outputs": [],
   "source": []
  }
 ],
 "metadata": {
  "kernelspec": {
   "display_name": "Python 3 (ipykernel)",
   "language": "python",
   "name": "python3"
  },
  "language_info": {
   "codemirror_mode": {
    "name": "ipython",
    "version": 3
   },
   "file_extension": ".py",
   "mimetype": "text/x-python",
   "name": "python",
   "nbconvert_exporter": "python",
   "pygments_lexer": "ipython3",
   "version": "3.11.5"
  }
 },
 "nbformat": 4,
 "nbformat_minor": 5
}
