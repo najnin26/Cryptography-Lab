{
 "cells": [
  {
   "cell_type": "code",
   "execution_count": 7,
   "id": "b13aa595",
   "metadata": {},
   "outputs": [
    {
     "name": "stdout",
     "output_type": "stream",
     "text": [
      "Encrypted message: T ac shi rmaisseegs etse\n",
      "Decrypted message: This is a secret message\n"
     ]
    }
   ],
   "source": [
    "import numpy as np\n",
    "\n",
    "def encrypt(plaintext, col):\n",
    "    ciphertext = \"\"\n",
    "    length = len(plaintext)\n",
    "    reminder = length % col\n",
    "    if reminder == 0:\n",
    "        row = length // col\n",
    "    else:\n",
    "        row = length // col + 1\n",
    "    # This is dynamic array for the plaintext.\n",
    "    table = np.array([[\"z\"] * col] * row)\n",
    "    # This part is for the fill the table dynamically.\n",
    "    index = 0\n",
    "    for i in range(row):\n",
    "        for j in range(col):\n",
    "            if index < len(plaintext):\n",
    "                table[i][j] = plaintext[index]\n",
    "                index += 1\n",
    "    # This part is for the make the ciphertext.\n",
    "    table = np.transpose(table)\n",
    "    for i in range(col):\n",
    "        for j in range(row):\n",
    "            ciphertext += table[i][j]\n",
    "    return ciphertext\n",
    "\n",
    "def decrypt(ciphertext, col):\n",
    "    plaintext = \"\"\n",
    "    length = len(ciphertext)\n",
    "    reminder = length % col\n",
    "    if reminder == 0:\n",
    "        row = length // col\n",
    "    else:\n",
    "        row = length // col + 1\n",
    "    # This is dynamic array for the plaintext.\n",
    "    table = np.array([[\"z\"] * col] * row)\n",
    "    # This part is for the fill the table dynamically.\n",
    "    index = 0\n",
    "    for i in range(col):\n",
    "        for j in range(row):\n",
    "            if index < len(ciphertext):\n",
    "                table[j][i] = ciphertext[index]\n",
    "                index += 1\n",
    "    # This part is for the make the plaintext.\n",
    "    for i in range(row):\n",
    "        for j in range(col):\n",
    "            plaintext += table[i][j]\n",
    "    return plaintext\n",
    "\n",
    "# Example usage\n",
    "plaintext = \"This is a secret message\"\n",
    "col = 4\n",
    "\n",
    "# Encrypt the message\n",
    "ciphertext = encrypt(plaintext, col)\n",
    "print(\"Encrypted message:\", ciphertext)\n",
    "\n",
    "# Decrypt the message\n",
    "decrypted_message = decrypt(ciphertext, col)\n",
    "print(\"Decrypted message:\", decrypted_message)\n"
   ]
  },
  {
   "cell_type": "code",
   "execution_count": null,
   "id": "7e1d4346",
   "metadata": {},
   "outputs": [],
   "source": []
  }
 ],
 "metadata": {
  "kernelspec": {
   "display_name": "Python 3 (ipykernel)",
   "language": "python",
   "name": "python3"
  },
  "language_info": {
   "codemirror_mode": {
    "name": "ipython",
    "version": 3
   },
   "file_extension": ".py",
   "mimetype": "text/x-python",
   "name": "python",
   "nbconvert_exporter": "python",
   "pygments_lexer": "ipython3",
   "version": "3.11.5"
  }
 },
 "nbformat": 4,
 "nbformat_minor": 5
}
