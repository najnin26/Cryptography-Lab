{
 "cells": [
  {
   "cell_type": "code",
   "execution_count": 1,
   "id": "32440d54",
   "metadata": {},
   "outputs": [],
   "source": [
    "#Encryption Function\n",
    "def encrypt(plaintext, key):\n",
    "    plaintext = plaintext.upper()\n",
    "    ciphertext = \"\"\n",
    "    for i in range(len(plaintext)):\n",
    "        char = plaintext[i]\n",
    "        if char == ' ':\n",
    "            shifted_char = char\n",
    "        else:\n",
    "            shifted_char = chr((ord(char) - 65 + key) % 26)\n",
    "            shifted_char = chr(ord(shifted_char) + 65)\n",
    "        ciphertext = ciphertext + shifted_char\n",
    "    return ciphertext"
   ]
  },
  {
   "cell_type": "code",
   "execution_count": 2,
   "id": "85f85e6c",
   "metadata": {},
   "outputs": [
    {
     "name": "stdout",
     "output_type": "stream",
     "text": [
      "Enter the plaintext: najnin sultana shirin\n",
      "Enter the key: 5\n",
      "Entered plaintext = najnin sultana shirin\n",
      "Entered key = 5\n",
      "Ciphertext = SFOSNS XZQYFSF XMNWNS\n",
      "Decrypted text = najnin sultana shirin\n"
     ]
    }
   ],
   "source": [
    "#Decryption Function\n",
    "def decrypt(ciphertext, key):\n",
    "    ciphertext = ciphertext.lower()\n",
    "    decrypted_text = \"\"\n",
    "    for i in range(len(ciphertext)):\n",
    "        char = ciphertext[i]\n",
    "        if char == ' ':\n",
    "            shifted_char = char\n",
    "        else:\n",
    "            shifted_char = chr((ord(char) - 97 - key) % 26)\n",
    "            shifted_char = chr(ord(shifted_char) + 97)\n",
    "        decrypted_text = decrypted_text + shifted_char\n",
    "    return decrypted_text\n",
    "\n",
    "#Input\n",
    "plaintext = input(\"Enter the plaintext: \")\n",
    "key = int(input(\"Enter the key: \"))\n",
    "#Output\n",
    "print(\"Entered plaintext = \" + plaintext)\n",
    "print(\"Entered key = \" + str(key))\n",
    "ciphertext = encrypt(plaintext, key)\n",
    "print(\"Ciphertext = \" + ciphertext)\n",
    "decrypted_text = decrypt(ciphertext, key)\n",
    "print(\"Decrypted text = \" + decrypted_text)"
   ]
  },
  {
   "cell_type": "code",
   "execution_count": null,
   "id": "f81620b9",
   "metadata": {},
   "outputs": [],
   "source": []
  }
 ],
 "metadata": {
  "kernelspec": {
   "display_name": "Python 3 (ipykernel)",
   "language": "python",
   "name": "python3"
  },
  "language_info": {
   "codemirror_mode": {
    "name": "ipython",
    "version": 3
   },
   "file_extension": ".py",
   "mimetype": "text/x-python",
   "name": "python",
   "nbconvert_exporter": "python",
   "pygments_lexer": "ipython3",
   "version": "3.11.5"
  }
 },
 "nbformat": 4,
 "nbformat_minor": 5
}
